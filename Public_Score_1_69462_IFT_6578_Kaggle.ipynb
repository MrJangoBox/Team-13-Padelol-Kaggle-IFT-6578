{
  "nbformat": 4,
  "nbformat_minor": 0,
  "metadata": {
    "kernelspec": {
      "display_name": "Python 3",
      "language": "python",
      "name": "python3"
    },
    "language_info": {
      "codemirror_mode": {
        "name": "ipython",
        "version": 3
      },
      "file_extension": ".py",
      "mimetype": "text/x-python",
      "name": "python",
      "nbconvert_exporter": "python",
      "pygments_lexer": "ipython3",
      "version": "3.8.5"
    },
    "colab": {
      "name": "Public_Score_1.69462_IFT_6578_Kaggle.ipynb",
      "provenance": [],
      "collapsed_sections": [],
      "toc_visible": true,
      "include_colab_link": true
    }
  },
  "cells": [
    {
      "cell_type": "markdown",
      "metadata": {
        "id": "view-in-github",
        "colab_type": "text"
      },
      "source": [
        "<a href=\"https://colab.research.google.com/github/MrJangoBox/Team-13-Padelol-Kaggle-IFT-6578/blob/main/Public_Score_1_69462_IFT_6578_Kaggle.ipynb\" target=\"_parent\"><img src=\"https://colab.research.google.com/assets/colab-badge.svg\" alt=\"Open In Colab\"/></a>"
      ]
    },
    {
      "cell_type": "code",
      "metadata": {
        "id": "92-GFRz6rauz"
      },
      "source": [
        "import gdown\n",
        "import numpy as np\n",
        "import pandas as pd\n",
        "import seaborn as sns\n",
        "import matplotlib.pyplot as plt\n",
        "import sklearn\n",
        "from sklearn.pipeline import Pipeline\n",
        "from sklearn.model_selection import train_test_split, GridSearchCV, cross_val_score\n",
        "from sklearn.metrics import mean_squared_log_error, make_scorer\n",
        "from sklearn.linear_model import LinearRegression, Ridge, LassoLars\n",
        "from sklearn.compose import TransformedTargetRegressor, ColumnTransformer\n",
        "from sklearn.feature_selection import SelectKBest, f_regression\n",
        "from sklearn.impute import SimpleImputer, KNNImputer\n",
        "from sklearn.preprocessing import StandardScaler, OneHotEncoder, MinMaxScaler, MaxAbsScaler, FunctionTransformer\n",
        "from sklearn.preprocessing import QuantileTransformer, PowerTransformer\n",
        "from sklearn.neighbors import KNeighborsRegressor\n",
        "from sklearn.svm import SVR, NuSVR\n",
        "from sklearn.ensemble import AdaBoostRegressor, RandomForestRegressor\n",
        "from sklearn.tree import DecisionTreeRegressor\n",
        "from sklearn.feature_selection import SelectKBest, f_regression, mutual_info_regression, GenericUnivariateSelect\n",
        "from sklearn.feature_selection import SelectFpr, SelectFdr, SelectFwe, SelectPercentile\n",
        "from sklearn.decomposition import TruncatedSVD\n",
        "from sklearn.ensemble import VotingRegressor"
      ],
      "execution_count": null,
      "outputs": []
    },
    {
      "cell_type": "markdown",
      "metadata": {
        "id": "vtsfBwGYravy"
      },
      "source": [
        "### Load data"
      ]
    },
    {
      "cell_type": "code",
      "metadata": {
        "id": "h5X-V5nEravz"
      },
      "source": [
        "# Load data\n",
        "if 'google.colab' in str(get_ipython()):\n",
        "    files = []\n",
        "    files.append(('test.csv',\n",
        "                'https://drive.google.com/uc?id=1gu6DXcEr4agiGttFj2ubToSICl5NDGKw'))\n",
        "    files.append(('train.csv',\n",
        "                'https://drive.google.com/uc?id=1x-Baw1riR-7wKZTpAvXe9RCCC0zu1sXv'))\n",
        "\n",
        "    for file in files:\n",
        "        gdown.download(file[1], file[0], quiet=True)\n",
        "\n",
        "    train_data, test_data = pd.read_csv('train.csv'), pd.read_csv('test.csv')\n",
        "else:\n",
        "    train_data, test_data = pd.read_csv('../train.csv'), pd.read_csv('../test.csv')\n",
        "\n",
        "# Rename columns\n",
        "train_cols = train_data.columns.str.lower().str.replace(' ', '_').str.replace('?', '')\n",
        "test_cols = train_cols[:-1]\n",
        "train_data.columns = train_cols\n",
        "test_data.columns = test_cols\n",
        "# Split train dataset to train and validation\n",
        "X_train, X_valid, y_train, y_valid = train_test_split(train_data.iloc[:, :-1],\n",
        "                                                      train_data.iloc[:, -1],\n",
        "                                                      test_size=0.01,\n",
        "                                                      shuffle=True,\n",
        "                                                      random_state=76)"
      ],
      "execution_count": null,
      "outputs": []
    },
    {
      "cell_type": "code",
      "metadata": {
        "colab": {
          "base_uri": "https://localhost:8080/",
          "height": 531
        },
        "id": "Df2LEt_Gmg6C",
        "outputId": "ba36e747-99ca-4111-c2e4-6b54dc9a3c1d"
      },
      "source": [
        "X_train"
      ],
      "execution_count": null,
      "outputs": [
        {
          "output_type": "execute_result",
          "data": {
            "text/html": [
              "<div>\n",
              "<style scoped>\n",
              "    .dataframe tbody tr th:only-of-type {\n",
              "        vertical-align: middle;\n",
              "    }\n",
              "\n",
              "    .dataframe tbody tr th {\n",
              "        vertical-align: top;\n",
              "    }\n",
              "\n",
              "    .dataframe thead th {\n",
              "        text-align: right;\n",
              "    }\n",
              "</style>\n",
              "<table border=\"1\" class=\"dataframe\">\n",
              "  <thead>\n",
              "    <tr style=\"text-align: right;\">\n",
              "      <th></th>\n",
              "      <th>id</th>\n",
              "      <th>user_name</th>\n",
              "      <th>personal_url</th>\n",
              "      <th>profile_cover_image_status</th>\n",
              "      <th>profile_verification_status</th>\n",
              "      <th>profile_text_color</th>\n",
              "      <th>profile_page_color</th>\n",
              "      <th>profile_theme_color</th>\n",
              "      <th>is_profile_view_size_customized</th>\n",
              "      <th>utc_offset</th>\n",
              "      <th>location</th>\n",
              "      <th>location_public_visibility</th>\n",
              "      <th>user_language</th>\n",
              "      <th>profile_creation_timestamp</th>\n",
              "      <th>user_time_zone</th>\n",
              "      <th>num_of_followers</th>\n",
              "      <th>num_of_people_following</th>\n",
              "      <th>num_of_status_updates</th>\n",
              "      <th>num_of_direct_messages</th>\n",
              "      <th>profile_category</th>\n",
              "      <th>avg_daily_profile_visit_duration_in_seconds</th>\n",
              "      <th>avg_daily_profile_clicks</th>\n",
              "      <th>profile_image</th>\n",
              "    </tr>\n",
              "  </thead>\n",
              "  <tbody>\n",
              "    <tr>\n",
              "      <th>4412</th>\n",
              "      <td>546I1ENF9Q41LRGR</td>\n",
              "      <td>kTbNbgc2crg</td>\n",
              "      <td>https://blob/u19rbujwg.com</td>\n",
              "      <td>Set</td>\n",
              "      <td>Pending</td>\n",
              "      <td>ebc712</td>\n",
              "      <td>777777</td>\n",
              "      <td>ffcc33</td>\n",
              "      <td>False</td>\n",
              "      <td>-14400.0</td>\n",
              "      <td>UCF, Orlando, Florida</td>\n",
              "      <td>enabled</td>\n",
              "      <td>en</td>\n",
              "      <td>Mon May 11 15:00:37 +0000 2009</td>\n",
              "      <td>Eastern Time (US &amp; Canada)</td>\n",
              "      <td>3355</td>\n",
              "      <td>204</td>\n",
              "      <td>871</td>\n",
              "      <td>74</td>\n",
              "      <td>unknown</td>\n",
              "      <td>26.680</td>\n",
              "      <td>3.7832</td>\n",
              "      <td>546I1ENF9Q41LRGR.png</td>\n",
              "    </tr>\n",
              "    <tr>\n",
              "      <th>2179</th>\n",
              "      <td>N0N9G39RGSI2RPKM</td>\n",
              "      <td>aLiiQJvoO_Vzu</td>\n",
              "      <td>https://blob/ouqM5.f_pd.com</td>\n",
              "      <td>Not set</td>\n",
              "      <td>Verified</td>\n",
              "      <td>2fc2ef</td>\n",
              "      <td>252429</td>\n",
              "      <td>1a1b1f</td>\n",
              "      <td>False</td>\n",
              "      <td>-18000.0</td>\n",
              "      <td>Im on Location</td>\n",
              "      <td>Disabled</td>\n",
              "      <td>en</td>\n",
              "      <td>Wed Apr 22 04:10:38 +0000 2009</td>\n",
              "      <td>Central Time (US &amp; Canada)</td>\n",
              "      <td>888002</td>\n",
              "      <td>224</td>\n",
              "      <td>8406</td>\n",
              "      <td>990</td>\n",
              "      <td>government</td>\n",
              "      <td>39.597</td>\n",
              "      <td>1.7103</td>\n",
              "      <td>N0N9G39RGSI2RPKM.png</td>\n",
              "    </tr>\n",
              "    <tr>\n",
              "      <th>2771</th>\n",
              "      <td>DTGKI9967R8OAB6J</td>\n",
              "      <td>EfV1rOfgQ</td>\n",
              "      <td>https://blob/9txpmluFmT.com</td>\n",
              "      <td>Set</td>\n",
              "      <td>Verified</td>\n",
              "      <td>090066</td>\n",
              "      <td>ddeef6</td>\n",
              "      <td>000000</td>\n",
              "      <td>False</td>\n",
              "      <td>7200.0</td>\n",
              "      <td>Imprint:</td>\n",
              "      <td>Enabled</td>\n",
              "      <td>en</td>\n",
              "      <td>Fri Mar 19 14:30:32 +0000 2010</td>\n",
              "      <td>Bern</td>\n",
              "      <td>385523</td>\n",
              "      <td>32</td>\n",
              "      <td>81845</td>\n",
              "      <td>2156</td>\n",
              "      <td>celebrity</td>\n",
              "      <td>17.721</td>\n",
              "      <td>3.5157</td>\n",
              "      <td>DTGKI9967R8OAB6J.png</td>\n",
              "    </tr>\n",
              "    <tr>\n",
              "      <th>599</th>\n",
              "      <td>MS94MPB6E37QDJB5</td>\n",
              "      <td>i3hO1g4hSXe4EE</td>\n",
              "      <td>https://blob/rkl42chf/4.com</td>\n",
              "      <td>Not set</td>\n",
              "      <td>Verified</td>\n",
              "      <td>1f3a46</td>\n",
              "      <td>000000</td>\n",
              "      <td>000000</td>\n",
              "      <td>False</td>\n",
              "      <td>-25200.0</td>\n",
              "      <td>Ciudad de México</td>\n",
              "      <td>Disabled</td>\n",
              "      <td>es</td>\n",
              "      <td>Mon Jun 27 16:20:50 +0000 2016</td>\n",
              "      <td>Pacific Time (US &amp; Canada)</td>\n",
              "      <td>10811</td>\n",
              "      <td>121</td>\n",
              "      <td>5602</td>\n",
              "      <td>10</td>\n",
              "      <td>unknown</td>\n",
              "      <td>23.779</td>\n",
              "      <td>4.8063</td>\n",
              "      <td>MS94MPB6E37QDJB5.png</td>\n",
              "    </tr>\n",
              "    <tr>\n",
              "      <th>683</th>\n",
              "      <td>9DP8QPCLA90H0BIL</td>\n",
              "      <td>0C7g0yyhaxuF</td>\n",
              "      <td>NaN</td>\n",
              "      <td>Set</td>\n",
              "      <td>Verified</td>\n",
              "      <td>009999</td>\n",
              "      <td>efefef</td>\n",
              "      <td>131516</td>\n",
              "      <td>False</td>\n",
              "      <td>19800.0</td>\n",
              "      <td>NaN</td>\n",
              "      <td>enabled</td>\n",
              "      <td>en</td>\n",
              "      <td>Mon Aug 17 07:52:17 +0000 2009</td>\n",
              "      <td>Mumbai</td>\n",
              "      <td>960784</td>\n",
              "      <td>771</td>\n",
              "      <td>20275</td>\n",
              "      <td>3467</td>\n",
              "      <td>business</td>\n",
              "      <td>29.958</td>\n",
              "      <td>4.3430</td>\n",
              "      <td>9DP8QPCLA90H0BIL.png</td>\n",
              "    </tr>\n",
              "    <tr>\n",
              "      <th>...</th>\n",
              "      <td>...</td>\n",
              "      <td>...</td>\n",
              "      <td>...</td>\n",
              "      <td>...</td>\n",
              "      <td>...</td>\n",
              "      <td>...</td>\n",
              "      <td>...</td>\n",
              "      <td>...</td>\n",
              "      <td>...</td>\n",
              "      <td>...</td>\n",
              "      <td>...</td>\n",
              "      <td>...</td>\n",
              "      <td>...</td>\n",
              "      <td>...</td>\n",
              "      <td>...</td>\n",
              "      <td>...</td>\n",
              "      <td>...</td>\n",
              "      <td>...</td>\n",
              "      <td>...</td>\n",
              "      <td>...</td>\n",
              "      <td>...</td>\n",
              "      <td>...</td>\n",
              "      <td>...</td>\n",
              "    </tr>\n",
              "    <tr>\n",
              "      <th>6426</th>\n",
              "      <td>O2F5PK0KCN65OT97</td>\n",
              "      <td>tO4VVjdcYbre</td>\n",
              "      <td>https://blob/Wv5e_k99mx.com</td>\n",
              "      <td>Set</td>\n",
              "      <td>Pending</td>\n",
              "      <td>0084b4</td>\n",
              "      <td>c0dfec</td>\n",
              "      <td>013861</td>\n",
              "      <td>False</td>\n",
              "      <td>-10800.0</td>\n",
              "      <td>Chile</td>\n",
              "      <td>enabled</td>\n",
              "      <td>es</td>\n",
              "      <td>Fri Sep 16 13:17:04 +0000 2011</td>\n",
              "      <td>Santiago</td>\n",
              "      <td>114845</td>\n",
              "      <td>844</td>\n",
              "      <td>65285</td>\n",
              "      <td>311</td>\n",
              "      <td>business</td>\n",
              "      <td>43.926</td>\n",
              "      <td>2.8904</td>\n",
              "      <td>O2F5PK0KCN65OT97.png</td>\n",
              "    </tr>\n",
              "    <tr>\n",
              "      <th>6528</th>\n",
              "      <td>C0QTG3P4A2DICQ7O</td>\n",
              "      <td>EMe3V5_nyAS7a</td>\n",
              "      <td>NaN</td>\n",
              "      <td>Set</td>\n",
              "      <td>Verified</td>\n",
              "      <td>234e99</td>\n",
              "      <td>c7e5f4</td>\n",
              "      <td>ffffff</td>\n",
              "      <td>False</td>\n",
              "      <td>7200.0</td>\n",
              "      <td>France</td>\n",
              "      <td>Enabled</td>\n",
              "      <td>fr</td>\n",
              "      <td>Tue May 27 10:38:13 +0000 2008</td>\n",
              "      <td>Paris</td>\n",
              "      <td>985303</td>\n",
              "      <td>22426</td>\n",
              "      <td>435976</td>\n",
              "      <td>1286</td>\n",
              "      <td>business</td>\n",
              "      <td>NaN</td>\n",
              "      <td>4.5657</td>\n",
              "      <td>C0QTG3P4A2DICQ7O.png</td>\n",
              "    </tr>\n",
              "    <tr>\n",
              "      <th>1415</th>\n",
              "      <td>2SFQ9KPTBQILL0FA</td>\n",
              "      <td>C0rK</td>\n",
              "      <td>NaN</td>\n",
              "      <td>Set</td>\n",
              "      <td>Verified</td>\n",
              "      <td>0084b4</td>\n",
              "      <td>ddeef6</td>\n",
              "      <td>022330</td>\n",
              "      <td>False</td>\n",
              "      <td>10800.0</td>\n",
              "      <td>Strasbourg, Alsace</td>\n",
              "      <td>Enabled</td>\n",
              "      <td>fr</td>\n",
              "      <td>Thu Jul 05 13:18:16 +0000 2012</td>\n",
              "      <td>Athens</td>\n",
              "      <td>110733</td>\n",
              "      <td>351</td>\n",
              "      <td>21917</td>\n",
              "      <td>398</td>\n",
              "      <td>celebrity</td>\n",
              "      <td>8.337</td>\n",
              "      <td>1.7701</td>\n",
              "      <td>2SFQ9KPTBQILL0FA.png</td>\n",
              "    </tr>\n",
              "    <tr>\n",
              "      <th>4087</th>\n",
              "      <td>5C43961ASN2SH970</td>\n",
              "      <td>C8IEoDGx5ars</td>\n",
              "      <td>https://blob/o6_0ijts:.com</td>\n",
              "      <td>Set</td>\n",
              "      <td>Not verified</td>\n",
              "      <td>ff6600</td>\n",
              "      <td>ffd498</td>\n",
              "      <td>ffffff</td>\n",
              "      <td>False</td>\n",
              "      <td>25200.0</td>\n",
              "      <td>Jakarta, Indonesia</td>\n",
              "      <td>disabled</td>\n",
              "      <td>en</td>\n",
              "      <td>Mon Jul 16 06:31:30 +0000 2012</td>\n",
              "      <td>Bangkok</td>\n",
              "      <td>2907</td>\n",
              "      <td>182</td>\n",
              "      <td>3132</td>\n",
              "      <td>8</td>\n",
              "      <td>unknown</td>\n",
              "      <td>7.333</td>\n",
              "      <td>0.3590</td>\n",
              "      <td>5C43961ASN2SH970.png</td>\n",
              "    </tr>\n",
              "    <tr>\n",
              "      <th>2721</th>\n",
              "      <td>9ESA2QMODSL65FR6</td>\n",
              "      <td>yyw0l7u28ZA</td>\n",
              "      <td>https://blob/paht:/3vr.com</td>\n",
              "      <td>Set</td>\n",
              "      <td>Verified</td>\n",
              "      <td>0084b4</td>\n",
              "      <td>8e9988</td>\n",
              "      <td>061e1f</td>\n",
              "      <td>False</td>\n",
              "      <td>10800.0</td>\n",
              "      <td>Istanbul</td>\n",
              "      <td>Enabled</td>\n",
              "      <td>tr</td>\n",
              "      <td>Fri Aug 28 20:17:26 +0000 2009</td>\n",
              "      <td>Istanbul</td>\n",
              "      <td>2708081</td>\n",
              "      <td>333</td>\n",
              "      <td>1461</td>\n",
              "      <td>1667</td>\n",
              "      <td>unknown</td>\n",
              "      <td>41.609</td>\n",
              "      <td>1.5511</td>\n",
              "      <td>9ESA2QMODSL65FR6.png</td>\n",
              "    </tr>\n",
              "  </tbody>\n",
              "</table>\n",
              "<p>7425 rows × 23 columns</p>\n",
              "</div>"
            ],
            "text/plain": [
              "                    id  ...         profile_image\n",
              "4412  546I1ENF9Q41LRGR  ...  546I1ENF9Q41LRGR.png\n",
              "2179  N0N9G39RGSI2RPKM  ...  N0N9G39RGSI2RPKM.png\n",
              "2771  DTGKI9967R8OAB6J  ...  DTGKI9967R8OAB6J.png\n",
              "599   MS94MPB6E37QDJB5  ...  MS94MPB6E37QDJB5.png\n",
              "683   9DP8QPCLA90H0BIL  ...  9DP8QPCLA90H0BIL.png\n",
              "...                ...  ...                   ...\n",
              "6426  O2F5PK0KCN65OT97  ...  O2F5PK0KCN65OT97.png\n",
              "6528  C0QTG3P4A2DICQ7O  ...  C0QTG3P4A2DICQ7O.png\n",
              "1415  2SFQ9KPTBQILL0FA  ...  2SFQ9KPTBQILL0FA.png\n",
              "4087  5C43961ASN2SH970  ...  5C43961ASN2SH970.png\n",
              "2721  9ESA2QMODSL65FR6  ...  9ESA2QMODSL65FR6.png\n",
              "\n",
              "[7425 rows x 23 columns]"
            ]
          },
          "metadata": {
            "tags": []
          },
          "execution_count": 3
        }
      ]
    },
    {
      "cell_type": "markdown",
      "metadata": {
        "id": "R8wGf8Fnrav0"
      },
      "source": [
        "### Functions"
      ]
    },
    {
      "cell_type": "code",
      "metadata": {
        "id": "JXRY9qjHrav1"
      },
      "source": [
        "def rmsle(y_true, y_pred):\n",
        "    return np.sqrt(mean_squared_log_error(y_true, y_pred))\n",
        "\n",
        "\n",
        "def clean_profile_category(df):\n",
        "    ''' replace \"  \" with \"unknown\" '''\n",
        "    return df.apply(lambda x: x.astype(str).str.replace(' ', 'unknown'))\n",
        "\n",
        "\n",
        "def clean_user_language(df):\n",
        "    ''' keep only the first two characters '''\n",
        "    return df.apply(lambda x: x.astype(str).str.split('-').str[0])\n",
        "\n",
        "\n",
        "def lower_location_visibility(df):\n",
        "    ''' lowercase location visibility feature '''\n",
        "    return df.apply(lambda x: x.astype(str).str.lower())\n",
        "\n",
        "\n",
        "def date2int(df):\n",
        "    result = pd.to_datetime(df['profile_creation_timestamp']).astype(int)\n",
        "    return pd.DataFrame(result)\n",
        "\n",
        "\n",
        "def date2ym(df):\n",
        "    result = pd.to_datetime(df['profile_creation_timestamp']).dt.year \\\n",
        "             * 100 + pd.to_datetime(df['profile_creation_timestamp']).dt.month\n",
        "    return pd.DataFrame(result)\n",
        "\n",
        "\n",
        "def to_string(df):\n",
        "    return df.apply(lambda x: x.astype(str))\n",
        "\n",
        "\n",
        "def if_black(df):\n",
        "    def f(x):\n",
        "        return x.apply(lambda x: True if x != '000000' else False)\n",
        "    return df.apply(f, axis=1)\n",
        "\n",
        "\n",
        "class DenseTransformer(sklearn.base.TransformerMixin):\n",
        "# https://stackoverflow.com/questions/28384680/scikit-learns-pipeline-a-sparse-matrix-was-passed-but-dense-data-is-required\n",
        "    def fit(self, X, y=None, **fit_params):\n",
        "        return self\n",
        "\n",
        "    def transform(self, X, y=None, **fit_params):\n",
        "        return X.todense()"
      ],
      "execution_count": null,
      "outputs": []
    },
    {
      "cell_type": "code",
      "metadata": {
        "id": "6FXpkHwmrav5"
      },
      "source": [
        "score = make_scorer(rmsle, greater_is_better=False)"
      ],
      "execution_count": null,
      "outputs": []
    },
    {
      "cell_type": "markdown",
      "metadata": {
        "id": "toeZ6STKrav5"
      },
      "source": [
        "### Column transformers"
      ]
    },
    {
      "cell_type": "markdown",
      "metadata": {
        "id": "Olitt5uZrav7"
      },
      "source": [
        "#### Groups of features"
      ]
    },
    {
      "cell_type": "code",
      "metadata": {
        "id": "sLPt-1smrav8"
      },
      "source": [
        "numeric_features = [\n",
        "                    'num_of_followers', \n",
        "                    'num_of_people_following',\n",
        "                    'num_of_status_updates', \n",
        "                    'num_of_direct_messages',\n",
        "                    'avg_daily_profile_visit_duration_in_seconds',\n",
        "                    'avg_daily_profile_clicks'\n",
        "                    ]\n",
        "numeric_transformer = Pipeline(steps=[\n",
        "    ('imputer', KNNImputer(n_neighbors=2, weights='distance')),\n",
        "    ('log', FunctionTransformer(np.log1p)),\n",
        "    ('scaler', StandardScaler())])\n",
        "\n",
        "categorical_features = ['utc_offset']\n",
        "categorical_transformer = Pipeline(steps=[\n",
        "    ('clean', FunctionTransformer(to_string)),\n",
        "    ('imputer', SimpleImputer(strategy='most_frequent')),\n",
        "    ('encoder', OneHotEncoder(handle_unknown='ignore'))])\n",
        "\n",
        "boolean_features = ['is_profile_view_size_customized',\n",
        "                    'profile_cover_image_status',\n",
        "                    'profile_verification_status']\n",
        "boolean_transformer = Pipeline(steps=[\n",
        "    ('imputer', SimpleImputer(strategy='most_frequent')),\n",
        "    ('encoder', OneHotEncoder(handle_unknown='ignore'))])\n",
        "\n",
        "color_features = ['profile_text_color',\n",
        "                  'profile_page_color',\n",
        "                  'profile_theme_color']\n",
        "color_transformer = Pipeline(steps=[\n",
        "    ('to_bool', FunctionTransformer(if_black)),\n",
        "    ('encoder', OneHotEncoder(handle_unknown='ignore'))])"
      ],
      "execution_count": null,
      "outputs": []
    },
    {
      "cell_type": "markdown",
      "metadata": {
        "id": "ZeYUBgv3rav-"
      },
      "source": [
        "#### Individual features"
      ]
    },
    {
      "cell_type": "code",
      "metadata": {
        "id": "aoHYowtvrav-"
      },
      "source": [
        "profile_category = ['profile_category']\n",
        "profile_category_transformer = Pipeline(steps=[\n",
        "    ('clean', FunctionTransformer(clean_profile_category)),\n",
        "    ('encoder', OneHotEncoder(handle_unknown='ignore'))])\n",
        "\n",
        "user_language = ['user_language']\n",
        "user_language_transformer = Pipeline(steps=[\n",
        "    # ('clean', FunctionTransformer(clean_user_language)),\n",
        "    ('encoder', OneHotEncoder(handle_unknown='ignore'))])\n",
        "\n",
        "personal_url = ['personal_url', 'location']\n",
        "personal_url_transformer = Pipeline(steps=[\n",
        "    ('not_na', FunctionTransformer(pd.notna)),\n",
        "    ('encoder', OneHotEncoder(handle_unknown='ignore'))])\n",
        "\n",
        "loc_visib = ['location_public_visibility']\n",
        "loc_visib_transformer = Pipeline(steps=[\n",
        "    ('lower', FunctionTransformer(lower_location_visibility)),\n",
        "    ('encoder', OneHotEncoder(handle_unknown='ignore'))])\n",
        "\n",
        "time = ['profile_creation_timestamp']\n",
        "time_transformer = Pipeline(steps=[\n",
        "    ('extract', FunctionTransformer(date2ym)),\n",
        "    ('log', FunctionTransformer(np.log1p)),\n",
        "    ('scaler', MinMaxScaler())])"
      ],
      "execution_count": null,
      "outputs": []
    },
    {
      "cell_type": "markdown",
      "metadata": {
        "id": "sa1G0fE5rav_"
      },
      "source": [
        "#### Combine Transformers"
      ]
    },
    {
      "cell_type": "code",
      "metadata": {
        "id": "g0EllvJqrawB"
      },
      "source": [
        "preprocessor = ColumnTransformer(\n",
        "    transformers=[\n",
        "        ('numeric_features', numeric_transformer, numeric_features),\n",
        "        ('categorical_features', categorical_transformer, categorical_features),\n",
        "        ('boolean_features', boolean_transformer, boolean_features),\n",
        "        ('color_features', color_transformer, color_features),\n",
        "        # ('profile_category', profile_category_transformer, profile_category),  # drop\n",
        "        ('user_language', user_language_transformer, user_language),\n",
        "        ('loc_visib', loc_visib_transformer, loc_visib),\n",
        "        ('personal_url', personal_url_transformer, personal_url),\n",
        "        ('time', time_transformer, time)],\n",
        "        transformer_weights={\n",
        "            'numeric_features': 1.1,\n",
        "            'categorical_features': 1.7,\n",
        "            'boolean_features': 0.9,\n",
        "            'color_features': 0.3,\n",
        "            'user_language': 1.1,\n",
        "            'loc_visib': 0.8,\n",
        "            'personal_url': 1.85,\n",
        "            'time': 1.3,\n",
        "        }\n",
        "    )"
      ],
      "execution_count": null,
      "outputs": []
    },
    {
      "cell_type": "markdown",
      "metadata": {
        "id": "1nxRCKHIrawC"
      },
      "source": [
        "### Target transformer coupled with a regressor"
      ]
    },
    {
      "cell_type": "code",
      "metadata": {
        "id": "U75Bv5HsrawC"
      },
      "source": [
        "# regressor = LinearRegression()\n",
        "# regressor = SVR(C=0.354, epsilon=0.222)\n",
        "NuSVR_regressor = NuSVR(nu=0.645, C=0.35)\n",
        "AdaBoost_regressor = AdaBoostRegressor(random_state=0, n_estimators=724,\n",
        "                              base_estimator=DecisionTreeRegressor(max_depth=17),\n",
        "                              learning_rate=2.06, loss='exponential')\n",
        "# regressor = Ridge(fit_intercept=False)\n",
        "# Lasso_regressor = LassoLars(random_state=1, fit_intercept=False)\n",
        "# KNeighbors_regressor = KNeighborsRegressor(n_jobs=-1, p=2)\n",
        "# RandomForest_regressor = RandomForestRegressor(max_features=None)\n",
        "transformer = QuantileTransformer(n_quantiles=13, output_distribution='normal')\n",
        "\n",
        "# Trying to improve with the ensemble of all predictors\n",
        "regressor_vote = VotingRegressor(\n",
        "    estimators=[\n",
        "        ('NuSVR', NuSVR_regressor), # NuSVR\n",
        "        ('AdaBoost', AdaBoost_regressor), # AdaBoost\n",
        "        # ('Lasso_regressor', Lasso_regressor), # Lasso_regressor\n",
        "        # ('KNeighbors', KNeighbors_regressor), # KNeighbors\n",
        "        # ('RandomForest', RandomForest_regressor), # RandomForest\n",
        "        ],\n",
        "    # weights=[1, 1, 1, 1, 1]\n",
        "    )\n",
        "# clf_vote.fit(X_train, y_train)\n",
        "# clf_vote.score(X_valid, y_valid)\n",
        "\n",
        "regr = TransformedTargetRegressor(regressor=regressor_vote,\n",
        "                                  transformer=transformer)"
      ],
      "execution_count": null,
      "outputs": []
    },
    {
      "cell_type": "markdown",
      "metadata": {
        "id": "nMFw2PS6rawD"
      },
      "source": [
        "### Main pipeline"
      ]
    },
    {
      "cell_type": "code",
      "metadata": {
        "id": "ojYaiOrrrawD"
      },
      "source": [
        "estimators = [('preprocessor', preprocessor),\n",
        "              ('to_dense', DenseTransformer()), # Use only for RandomForestRegressor\n",
        "              # ('dimensions', TruncatedSVD(n_components=50, n_iter=7, random_state=42)),\n",
        "              # ('dimensions', GenericUnivariateSelect(mode=\"fpr\", param=0.92)),\n",
        "              ('regressor', regr)]\n",
        "pipe = Pipeline(estimators)\n",
        "# pipe.get_params()"
      ],
      "execution_count": null,
      "outputs": []
    },
    {
      "cell_type": "markdown",
      "metadata": {
        "id": "PVLxrQt2rawE"
      },
      "source": [
        "### Train on valid and get results"
      ]
    },
    {
      "cell_type": "code",
      "metadata": {
        "id": "fjby84qFrawE",
        "colab": {
          "base_uri": "https://localhost:8080/"
        },
        "outputId": "efc0fe3a-571a-45ca-ed83-54d1d054d622"
      },
      "source": [
        "_ = pipe.fit(X_train, y_train)\n",
        "predictions = pipe.predict(X_valid)\n",
        "rmsle_train = rmsle(y_train, pipe.predict(X_train))\n",
        "rmsle_valid = rmsle(y_valid, predictions)\n",
        "print(f'Train error: {rmsle_train:.3f}')\n",
        "print(f'Valid error: {rmsle_valid:.3f}')"
      ],
      "execution_count": null,
      "outputs": [
        {
          "output_type": "stream",
          "text": [
            "Train error: 0.947\n",
            "Valid error: 1.424\n"
          ],
          "name": "stdout"
        }
      ]
    },
    {
      "cell_type": "markdown",
      "metadata": {
        "id": "q88_-UTyrawH"
      },
      "source": [
        "### Grid search for hyperparameters"
      ]
    },
    {
      "cell_type": "code",
      "metadata": {
        "id": "yuSnpXYgrawI"
      },
      "source": [
        "imputer = [dict(\n",
        "    preprocessor__numeric_features__imputer=[SimpleImputer()],\n",
        "    preprocessor__numeric_features__imputer__strategy=['mean', 'median']),\n",
        "           dict(\n",
        "    preprocessor__numeric_features__imputer=[KNNImputer()],\n",
        "    preprocessor__numeric_features__imputer__n_neighbors=np.arange(1, 11, 1, dtype=int),\n",
        "    preprocessor__numeric_features__imputer__weights=['uniform', 'distance'])\n",
        "]\n",
        "# best: {'preprocessor__numeric_features__imputer': KNNImputer(n_neighbors=3, weights='distance'),\n",
        "#        'preprocessor__numeric_features__imputer__n_neighbors': 3,\n",
        "#        'preprocessor__numeric_features__imputer__weights': 'distance'}"
      ],
      "execution_count": null,
      "outputs": []
    },
    {
      "cell_type": "code",
      "metadata": {
        "id": "PS7EDu6arawb"
      },
      "source": [
        "preprocessing = dict(\n",
        "    preprocessor__numeric_features__scaler=[StandardScaler(), MinMaxScaler(), MaxAbsScaler()],\n",
        "    preprocessor__time__extract=[FunctionTransformer(date2int), FunctionTransformer(date2ym)],\n",
        "    preprocessor__user_language__clean=['passthrough', FunctionTransformer(clean_user_language)],\n",
        ")\n",
        "# best: {'preprocessor__numeric_features__scaler': StandardScaler(),\n",
        "#        'preprocessor__time__extract': FunctionTransformer(date2ym),\n",
        "#        'preprocessor__user_language__clean': 'passthrough'}"
      ],
      "execution_count": null,
      "outputs": []
    },
    {
      "cell_type": "code",
      "metadata": {
        "id": "CSuN5eVM1Bvv"
      },
      "source": [
        "preprocessor = ColumnTransformer(\n",
        "    transformers=[\n",
        "        ('numeric_features', numeric_transformer, numeric_features),\n",
        "        ('categorical_features', categorical_transformer, categorical_features),\n",
        "        ('boolean_features', boolean_transformer, boolean_features),\n",
        "        ('color_features', color_transformer, color_features),\n",
        "        # ('profile_category', profile_category_transformer, profile_category),  # drop\n",
        "        ('user_language', user_language_transformer, user_language),\n",
        "        ('loc_visib', loc_visib_transformer, loc_visib),\n",
        "        ('personal_url', personal_url_transformer, personal_url),\n",
        "        ('time', time_transformer, time)],\n",
        "        transformer_weights={\n",
        "            'numeric_features': 1,\n",
        "            'categorical_features': 0.70,\n",
        "            'boolean_features': 1,\n",
        "            'color_features': 1,\n",
        "            'user_language': 1,\n",
        "            'loc_visib': 1,\n",
        "            'personal_url': 1,\n",
        "            'time': 1,\n",
        "        }\n",
        "    )"
      ],
      "execution_count": null,
      "outputs": []
    },
    {
      "cell_type": "code",
      "metadata": {
        "id": "9sE240bsrawc"
      },
      "source": [
        "f_selection = dict(\n",
        "    preprocessor__numeric_features=['drop', numeric_transformer],\n",
        "    preprocessor__categorical_features=['drop', categorical_transformer],\n",
        "    preprocessor__boolean_features=['drop', boolean_transformer],\n",
        "    preprocessor__color_features=['drop', color_transformer],\n",
        "    preprocessor__profile_category=['drop', profile_category_transformer],\n",
        "    preprocessor__user_language=['drop', user_language_transformer],\n",
        "    preprocessor__loc_visib=['drop', loc_visib_transformer],\n",
        "    preprocessor__personal_url=['drop', personal_url_transformer],\n",
        "    preprocessor__time=['drop', time_transformer],\n",
        ")\n",
        "# best: {'preprocessor__categorical_features': 'drop',\n",
        "#        'preprocessor__profile_category': 'drop'}"
      ],
      "execution_count": null,
      "outputs": []
    },
    {
      "cell_type": "code",
      "metadata": {
        "id": "R5LSgFi1rawd"
      },
      "source": [
        "grid_search = GridSearchCV(pipe, param_grid=f_selection, scoring=score, n_jobs=-1)\n",
        "_ = grid_search.fit(X_train, y_train)\n",
        "print(\"Best score:\", grid_search.best_score_)\n",
        "print(\"Best params:\", grid_search.best_params_)"
      ],
      "execution_count": null,
      "outputs": []
    },
    {
      "cell_type": "code",
      "metadata": {
        "id": "lOxATyHgrawd"
      },
      "source": [
        "# df = pd.DataFrame(grid_search.cv_results_)"
      ],
      "execution_count": null,
      "outputs": []
    },
    {
      "cell_type": "markdown",
      "metadata": {
        "id": "toSI1LWsrawe"
      },
      "source": [
        "### Bayesian optimization\n",
        "Hyperopt's job is to find the best value of a scalar-valued, possibly-stochastic function over a set of possible arguments to that function. Whereas many optimization packages will assume that these inputs are drawn from a vector space, Hyperopt is different in that it encourages you to describe your search space in more detail. By providing more information about where your function is defined, and where you think the best values are, you allow algorithms in hyperopt to search more efficiently.\n",
        "\n",
        "- [Parameter expressions](https://github.com/hyperopt/hyperopt/wiki/FMin#21-parameter-expressions)\n",
        "- [Tutorial](https://github.com/WillKoehrsen/hyperparameter-optimization/blob/master/Bayesian%20Hyperparameter%20Optimization%20of%20Gradient%20Boosting%20Machine.ipynb)"
      ]
    },
    {
      "cell_type": "code",
      "metadata": {
        "id": "_uSh4CFWrawe",
        "colab": {
          "base_uri": "https://localhost:8080/"
        },
        "outputId": "cbe9693e-9955-429d-b4f3-e0b1bd141360"
      },
      "source": [
        "!pip install hyperopt"
      ],
      "execution_count": null,
      "outputs": [
        {
          "output_type": "stream",
          "text": [
            "Requirement already satisfied: hyperopt in /usr/local/lib/python3.6/dist-packages (0.1.2)\n",
            "Requirement already satisfied: six in /usr/local/lib/python3.6/dist-packages (from hyperopt) (1.15.0)\n",
            "Requirement already satisfied: scipy in /usr/local/lib/python3.6/dist-packages (from hyperopt) (1.4.1)\n",
            "Requirement already satisfied: future in /usr/local/lib/python3.6/dist-packages (from hyperopt) (0.16.0)\n",
            "Requirement already satisfied: pymongo in /usr/local/lib/python3.6/dist-packages (from hyperopt) (3.11.2)\n",
            "Requirement already satisfied: numpy in /usr/local/lib/python3.6/dist-packages (from hyperopt) (1.18.5)\n",
            "Requirement already satisfied: tqdm in /usr/local/lib/python3.6/dist-packages (from hyperopt) (4.41.1)\n",
            "Requirement already satisfied: networkx in /usr/local/lib/python3.6/dist-packages (from hyperopt) (2.5)\n",
            "Requirement already satisfied: decorator>=4.3.0 in /usr/local/lib/python3.6/dist-packages (from networkx->hyperopt) (4.4.2)\n"
          ],
          "name": "stdout"
        }
      ]
    },
    {
      "cell_type": "code",
      "metadata": {
        "id": "KUKeWd4xrawe"
      },
      "source": [
        "import hyperopt\n",
        "from hyperopt import hp"
      ],
      "execution_count": null,
      "outputs": []
    },
    {
      "cell_type": "code",
      "metadata": {
        "id": "ALnoibx0rawf"
      },
      "source": [
        "svr_space = dict(\n",
        "    regressor__regressor__kernel=[hp.choice('regressor__regressor__kernel',\n",
        "                                            ['rbf', 'sigmoid', 'linear', 'poly'])],\n",
        "    regressor__regressor__coef0=[hp.lognormal('regressor__regressor__coef0', 0, 1)],\n",
        "    regressor__regressor__degree=[hp.quniform('regressor__regressor__degree', 0, 5, 1)],\n",
        "    regressor__regressor__C=[hp.lognormal('regressor__regressor__C', 0, 1)],\n",
        "    regressor__regressor__epsilon=[hp.lognormal('regressor__regressor__epsilon', 0, 1)]\n",
        ")\n",
        "# best loss: 1.7437062778333687\n",
        "# {'regressor__regressor__C': (0.35392641089361354,),\n",
        "#  'regressor__regressor__degree': (3.0,),\n",
        "#  'regressor__regressor__kernel': ('rbf',)}"
      ],
      "execution_count": null,
      "outputs": []
    },
    {
      "cell_type": "code",
      "metadata": {
        "id": "hbOtUgvjrawh"
      },
      "source": [
        "ada_space = dict(\n",
        "    regressor__regressor__loss=[hp.choice('regressor__regressor__loss', ['linear', 'square', 'exponential'])],\n",
        "    regressor__regressor__n_estimators=[hp.quniform('regressor__regressor__n_estimators', 50, 800, 1)],\n",
        "    regressor__regressor__learning_rate=[hp.lognormal('regressor__regressor__learning_rate', 0, 1)],\n",
        "    regressor__regressor__base_estimator__max_depth=[hp.quniform('regressor__regressor__base_estimator__max_depth', 2, 20, 1)]\n",
        ")\n",
        "# best loss: 1.758543277550394\n",
        "# {'regressor__regressor__base_estimator__max_depth': (17.0,),\n",
        "#  'regressor__regressor__learning_rate': (2.060304100430177,),\n",
        "#  'regressor__regressor__loss': ('exponential',),\n",
        "#  'regressor__regressor__n_estimators': (724.0,)}"
      ],
      "execution_count": null,
      "outputs": []
    },
    {
      "cell_type": "code",
      "metadata": {
        "id": "A3gR5u3orawh"
      },
      "source": [
        "ridge_space = dict(\n",
        "    regressor__regressor__alpha=[hp.lognormal('regressor__regressor__alpha', 0, 1)],\n",
        "    regressor__regressor__solver=[hp.choice('regressor__regressor__solver',\n",
        "                                            ['svd', 'cholesky', 'lsqr', 'sparse_cg', 'sag', 'saga'])]\n",
        ")\n",
        "# best loss: 1.9026832250411743"
      ],
      "execution_count": null,
      "outputs": []
    },
    {
      "cell_type": "code",
      "metadata": {
        "id": "kq8ILOmlrawi"
      },
      "source": [
        "lassolars_space = dict(\n",
        "    regressor__regressor__alpha=[hp.lognormal('regressor__regressor__alpha', 0, 1)],\n",
        "    # regressor__regressor__eps=[hp.lognormal('regressor__regressor__eps', 0, 1)]\n",
        ")\n",
        "# best loss: 1.902702357590335"
      ],
      "execution_count": null,
      "outputs": []
    },
    {
      "cell_type": "code",
      "metadata": {
        "id": "D-nmqzt5rawj"
      },
      "source": [
        "nusvr_space = dict(\n",
        "    regressor__regressor__nu=[hp.uniform('regressor__regressor__nu', 0.0001, 1)],\n",
        "    # regressor__regressor__kernel=[hp.choice('regressor__regressor__kernel',\n",
        "    #                                         ['rbf', 'sigmoid', 'linear', 'poly'])],\n",
        "    # regressor__regressor__coef0=[hp.lognormal('regressor__regressor__coef0', 0, 1)],\n",
        "    # regressor__regressor__degree=[hp.quniform('regressor__regressor__degree', 0, 5, 1)],\n",
        "    regressor__regressor__C=[hp.lognormal('regressor__regressor__C', 0, 1)]\n",
        ")\n",
        "# best loss: 1.7422090855908432\n",
        "# {'regressor__regressor__C': (0.35495952136665515,),\n",
        "#  'regressor__regressor__nu': (0.6818017344641393,)}"
      ],
      "execution_count": null,
      "outputs": []
    },
    {
      "cell_type": "code",
      "metadata": {
        "id": "KQm45K9Rrawk"
      },
      "source": [
        "knn_space = dict(\n",
        "    # regressor__regressor__metric=[hp.choice('regressor__regressor__metric', ['cosine', 'l1', 'l2'])],\n",
        "    regressor__regressor__n_neighbors=[hp.quniform('regressor__regressor__n_neighbors', 1, 100, 1)],\n",
        "    # 'regressor__regressor__p': 2,\n",
        "    regressor__regressor__weights=[hp.choice('regressor__regressor__weights', ['uniform', 'distance'])]\n",
        ")\n",
        "# best loss: 1.8704194083689019\n",
        "# {'regressor__regressor__n_neighbors': (43.0,),\n",
        "#  'regressor__regressor__weights': ('distance',)}"
      ],
      "execution_count": null,
      "outputs": []
    },
    {
      "cell_type": "code",
      "metadata": {
        "id": "NalrCXePrawl"
      },
      "source": [
        "rf_space = dict(\n",
        "    regressor__regressor__n_estimators=[hp.quniform('regressor__regressor__n_estimators', 50, 400, 10)],\n",
        "    regressor__regressor__criterion=[hp.choice('regressor__regressor__criterion', ['mse', 'mae'])],\n",
        "    # regressor__regressor__min_samples_split=[]\n",
        "    regressor__regressor__max_samples=[hp.uniform('regressor__regressor__max_samples', 0, 1)],\n",
        "    regressor__regressor__min_samples_split=[hp.uniform('regressor__regressor__min_samples_split', 0, 1)],\n",
        "    regressor__regressor__min_samples_leaf=[hp.uniform('regressor__regressor__min_samples_leaf', 0, 0.5)]\n",
        ")"
      ],
      "execution_count": null,
      "outputs": []
    },
    {
      "cell_type": "code",
      "metadata": {
        "id": "2dOLGM3Urawl"
      },
      "source": [
        "# Rerun after setting pipe and before running the search\n",
        "def objective(params, X=X_train, y=y_train, pipe=pipe, score=score, cv=5):\n",
        "    '''\n",
        "    A \"black box\" function calculating a score (=the loss to minimize) given\n",
        "    a set of hyperparameters, using GridSearchCV with cv=5 by default.\n",
        "    It flattens the hyperparameter spaces (if conditional hyperparams are passed).\n",
        "    It casts some floats to ints (based on a hardcoded list of hyperparamer names).\n",
        "    '''\n",
        "    flat_params = {}\n",
        "    for k, v in params.items():\n",
        "        if isinstance(v[0], dict):\n",
        "            flat_params.update(v[0])\n",
        "        else:\n",
        "            flat_params[k] = v\n",
        "    for param in ['regressor__regressor__degree',\n",
        "                  'regressor__regressor__n_estimators',\n",
        "                  'regressor__regressor__n_estimators',\n",
        "                  'regressor__regressor__n_neighbors',\n",
        "                  'dimensions__k']:\n",
        "        if param in flat_params.keys():\n",
        "            flat_params[param] = [int(flat_params[param][0])]\n",
        "\n",
        "    grid_search = GridSearchCV(pipe, flat_params, scoring=score, cv=cv, n_jobs=-1)\n",
        "    _ = grid_search.fit(X, y)\n",
        "    loss = -grid_search.best_score_\n",
        "    return {'loss': loss, 'params': flat_params, 'status': hyperopt.STATUS_OK}"
      ],
      "execution_count": null,
      "outputs": []
    },
    {
      "cell_type": "code",
      "metadata": {
        "id": "_nmXUMnOrawm"
      },
      "source": [
        "# Pass the appropriate space before running\n",
        "bayes_trials = hyperopt.Trials()\n",
        "best = hyperopt.fmin(fn=objective, space=rf_space, algo=hyperopt.tpe.suggest,\n",
        "                     max_evals=50, trials=bayes_trials)"
      ],
      "execution_count": null,
      "outputs": []
    },
    {
      "cell_type": "code",
      "metadata": {
        "id": "ZDX3IYPArawn"
      },
      "source": [
        "# See the best params (pass the appropriate space)\n",
        "hyperopt.space_eval(rf_space, best)"
      ],
      "execution_count": null,
      "outputs": []
    },
    {
      "cell_type": "code",
      "metadata": {
        "id": "bWVVg-Bxrawo"
      },
      "source": [
        "# hyperopt.pyll.stochastic.sample(ada_space)"
      ],
      "execution_count": null,
      "outputs": []
    },
    {
      "cell_type": "markdown",
      "metadata": {
        "id": "Va0nS6Ocrawo"
      },
      "source": [
        "### Train on whole data"
      ]
    },
    {
      "cell_type": "code",
      "metadata": {
        "id": "h5HAlYNprawt"
      },
      "source": [
        "X_train_whole = pd.concat([X_train, X_valid])\n",
        "y_train_whole = pd.concat([y_train, y_valid])\n",
        "pipe.fit(X_train_whole, y_train_whole)\n",
        "pred_submission = pipe.predict(test_data)"
      ],
      "execution_count": null,
      "outputs": []
    },
    {
      "cell_type": "markdown",
      "metadata": {
        "id": "keztKJD6rawx"
      },
      "source": [
        "### Save Predictions"
      ]
    },
    {
      "cell_type": "code",
      "metadata": {
        "id": "WiisMK9_raw1"
      },
      "source": [
        "output = pd.DataFrame({'Id': test_data['id'], \n",
        "                       'Predicted': np.floor(pred_submission).astype('int')})\n",
        "output.to_csv('submission.csv', index=False)"
      ],
      "execution_count": null,
      "outputs": []
    },
    {
      "cell_type": "code",
      "metadata": {
        "id": "uxMmb1tcJXO2"
      },
      "source": [
        ""
      ],
      "execution_count": null,
      "outputs": []
    }
  ]
}