{
  "nbformat": 4,
  "nbformat_minor": 0,
  "metadata": {
    "kernelspec": {
      "display_name": "Python 3",
      "language": "python",
      "name": "python3"
    },
    "language_info": {
      "codemirror_mode": {
        "name": "ipython",
        "version": 3
      },
      "file_extension": ".py",
      "mimetype": "text/x-python",
      "name": "python",
      "nbconvert_exporter": "python",
      "pygments_lexer": "ipython3",
      "version": "3.8.5"
    },
    "colab": {
      "name": "Public_Score_1.66395_IFT_6578_Kaggle_Before_Shift.ipynb",
      "provenance": [],
      "collapsed_sections": [],
      "include_colab_link": true
    }
  },
  "cells": [
    {
      "cell_type": "markdown",
      "metadata": {
        "id": "view-in-github",
        "colab_type": "text"
      },
      "source": [
        "<a href=\"https://colab.research.google.com/github/MrJangoBox/Team-13-Padelol-Kaggle-IFT-6578/blob/main/Public_Score_1_66395_IFT_6578_Kaggle_Before_Shift.ipynb\" target=\"_parent\"><img src=\"https://colab.research.google.com/assets/colab-badge.svg\" alt=\"Open In Colab\"/></a>"
      ]
    },
    {
      "cell_type": "code",
      "metadata": {
        "id": "W2nftAp2SfuP"
      },
      "source": [
        "import numpy as np\n",
        "import pandas as pd\n",
        "import gdown\n",
        "import seaborn as sns\n",
        "import matplotlib.pyplot as plt\n",
        "from sklearn.pipeline import Pipeline\n",
        "from sklearn.model_selection import train_test_split, GridSearchCV\n",
        "from sklearn.metrics import mean_squared_log_error, make_scorer\n",
        "from sklearn.linear_model import LinearRegression\n",
        "from sklearn.compose import TransformedTargetRegressor, ColumnTransformer\n",
        "from sklearn.feature_selection import SelectKBest, f_regression\n",
        "from sklearn.impute import SimpleImputer\n",
        "from sklearn.preprocessing import StandardScaler, OneHotEncoder, MinMaxScaler, MaxAbsScaler\n",
        "from sklearn.preprocessing import QuantileTransformer, PowerTransformer, FunctionTransformer\n",
        "from sklearn.svm import SVR"
      ],
      "execution_count": null,
      "outputs": []
    },
    {
      "cell_type": "markdown",
      "metadata": {
        "id": "pUgfnFf6SfuR"
      },
      "source": [
        "### Load data"
      ]
    },
    {
      "cell_type": "code",
      "metadata": {
        "id": "92RLJM_UiiRV"
      },
      "source": [
        "# Load data\n",
        "if 'google.colab' in str(get_ipython()):\n",
        "    files = []\n",
        "    files.append(('test.csv',\n",
        "                'https://drive.google.com/uc?id=1gu6DXcEr4agiGttFj2ubToSICl5NDGKw'))\n",
        "    files.append(('train.csv',\n",
        "                'https://drive.google.com/uc?id=1x-Baw1riR-7wKZTpAvXe9RCCC0zu1sXv'))\n",
        "\n",
        "    for file in files:\n",
        "        gdown.download(file[1], file[0], quiet=True)\n",
        "\n",
        "    train_data, test_data = pd.read_csv('train.csv'), pd.read_csv('test.csv')\n",
        "else:\n",
        "    train_data, test_data = pd.read_csv('../train.csv'), pd.read_csv('../test.csv')"
      ],
      "execution_count": null,
      "outputs": []
    },
    {
      "cell_type": "code",
      "metadata": {
        "id": "0lI_STxjSfuS"
      },
      "source": [
        "# Rename columns\n",
        "train_cols = train_data.columns.str.lower().str.replace(' ', '_').str.replace('?', '')\n",
        "test_cols = train_cols[:-1]\n",
        "train_data.columns = train_cols\n",
        "test_data.columns = test_cols\n",
        "# Split train dataset to train and validation\n",
        "X_train, X_valid, y_train, y_valid = train_test_split(train_data.iloc[:, :-1],\n",
        "                                                      train_data.iloc[:, -1],\n",
        "                                                      test_size=0.3,\n",
        "                                                      shuffle=True,\n",
        "                                                      random_state=76)"
      ],
      "execution_count": null,
      "outputs": []
    },
    {
      "cell_type": "markdown",
      "metadata": {
        "id": "pJG8kaeySfuS"
      },
      "source": [
        "### Loss"
      ]
    },
    {
      "cell_type": "code",
      "metadata": {
        "id": "SbPhkYr-SfuS"
      },
      "source": [
        "def rmsle(y_true, y_pred):\n",
        "    return np.sqrt(mean_squared_log_error(y_true, y_pred))"
      ],
      "execution_count": null,
      "outputs": []
    },
    {
      "cell_type": "markdown",
      "metadata": {
        "id": "zuo1JCE4SfuS"
      },
      "source": [
        "### Reproduce initial results"
      ]
    },
    {
      "cell_type": "code",
      "metadata": {
        "colab": {
          "base_uri": "https://localhost:8080/"
        },
        "id": "4smmwRYNSfuS",
        "outputId": "03725c3c-a83d-4194-a9ae-bc45f9695be6"
      },
      "source": [
        "subset_features = ['num_of_status_updates']\n",
        "x_train = X_train[subset_features]\n",
        "x_valid = X_valid[subset_features]\n",
        "regr = LinearRegression().fit(x_train, y_train)\n",
        "predictions = regr.predict(x_valid)\n",
        "print(np.sqrt(mean_squared_log_error(y_valid, predictions)))\n",
        "rmsle(y_valid, predictions)"
      ],
      "execution_count": null,
      "outputs": [
        {
          "output_type": "stream",
          "text": [
            "3.189712405243282\n"
          ],
          "name": "stdout"
        },
        {
          "output_type": "execute_result",
          "data": {
            "text/plain": [
              "3.189712405243282"
            ]
          },
          "metadata": {
            "tags": []
          },
          "execution_count": 5
        }
      ]
    },
    {
      "cell_type": "markdown",
      "metadata": {
        "id": "GFCg6I1PSfuV"
      },
      "source": [
        "### Column transformers"
      ]
    },
    {
      "cell_type": "markdown",
      "metadata": {
        "id": "8ekLAio5ug8r"
      },
      "source": [
        "## Numeric Features"
      ]
    },
    {
      "cell_type": "code",
      "metadata": {
        "id": "_Qvl20bLukw1"
      },
      "source": [
        "numeric_features = ['num_of_followers', 'num_of_people_following',\n",
        "                    'num_of_status_updates', 'num_of_direct_messages',\n",
        "                    'avg_daily_profile_visit_duration_in_seconds',\n",
        "                    'avg_daily_profile_clicks']\n",
        "\n",
        "numeric_transformer = Pipeline(steps=[\n",
        "    ('imputer', SimpleImputer(strategy='mean')),\n",
        "    ('log', FunctionTransformer(np.log1p)),\n",
        "    ('scaler', StandardScaler())])"
      ],
      "execution_count": null,
      "outputs": []
    },
    {
      "cell_type": "markdown",
      "metadata": {
        "id": "BuroRMFAumKa"
      },
      "source": [
        "## Categorical Features"
      ]
    },
    {
      "cell_type": "code",
      "metadata": {
        "id": "THdZWZWSNWnZ"
      },
      "source": [
        "categorical_features = ['user_language', 'user_time_zone']\n",
        "\n",
        "categorical_transformer = Pipeline(steps=[\n",
        "    ('imputer', SimpleImputer(strategy='constant', fill_value='missing')),\n",
        "    ('onehot', OneHotEncoder(handle_unknown='ignore'))])"
      ],
      "execution_count": null,
      "outputs": []
    },
    {
      "cell_type": "code",
      "metadata": {
        "id": "nYEUuddu3kht"
      },
      "source": [
        "def clean_profile_category(df):\r\n",
        "    ''' replace \"  \" with \"unknown\" '''\r\n",
        "    clean_df = df.apply(lambda x: x.astype(str).str.replace(' ', 'unknown'))\r\n",
        "    return clean_df"
      ],
      "execution_count": null,
      "outputs": []
    },
    {
      "cell_type": "code",
      "metadata": {
        "id": "rcEsFj8bSfuV"
      },
      "source": [
        "category = ['profile_category']\n",
        "category_transformer = Pipeline(steps=[\n",
        "    ('clean', FunctionTransformer(clean_profile_category)),\n",
        "    ('onehot', OneHotEncoder(handle_unknown='ignore')),\n",
        "    ])"
      ],
      "execution_count": null,
      "outputs": []
    },
    {
      "cell_type": "code",
      "metadata": {
        "id": "mUvJg9TrGNX-"
      },
      "source": [
        "def lower_location_visibility(df):\n",
        "    ''' lowercase location visibility feature '''\n",
        "    clean_df = df.apply(lambda x: x.astype(str).str.lower())\n",
        "    return clean_df"
      ],
      "execution_count": null,
      "outputs": []
    },
    {
      "cell_type": "code",
      "metadata": {
        "id": "ASS0d8dE_UKN"
      },
      "source": [
        "loc_visib = ['location_public_visibility']\n",
        "loc_visib_transformer = Pipeline(steps=[\n",
        "    ('lower', FunctionTransformer(lower_location_visibility)),\n",
        "    ('onehot', OneHotEncoder(handle_unknown='ignore')),\n",
        "    ])"
      ],
      "execution_count": null,
      "outputs": []
    },
    {
      "cell_type": "markdown",
      "metadata": {
        "id": "7swlAW7V3zGu"
      },
      "source": [
        "# Boolean Features"
      ]
    },
    {
      "cell_type": "code",
      "metadata": {
        "id": "NfQG_6yGGQtz"
      },
      "source": [
        "boolean_features = ['is_profile_view_size_customized', \n",
        "                    'profile_cover_image_status', \n",
        "                    'profile_verification_status']\n",
        "                    \n",
        "boolean_transformer = Pipeline(steps=[\n",
        "    ('imputer', SimpleImputer(strategy='constant', fill_value='Not set')),\n",
        "    ('onehot', OneHotEncoder(handle_unknown='ignore'))])"
      ],
      "execution_count": null,
      "outputs": []
    },
    {
      "cell_type": "code",
      "metadata": {
        "id": "U-Uxz3f_921M"
      },
      "source": [
        "personal_url = ['personal_url']\n",
        "personal_url_transformer = Pipeline(steps=[\n",
        "    ('not_na', FunctionTransformer(pd.notna)),\n",
        "    ])"
      ],
      "execution_count": null,
      "outputs": []
    },
    {
      "cell_type": "markdown",
      "metadata": {
        "id": "Aeg3lxD4DbBo"
      },
      "source": [
        "# Time Feature"
      ]
    },
    {
      "cell_type": "code",
      "metadata": {
        "id": "ZEmAb2juG0E_"
      },
      "source": [
        "def date2int(df):\n",
        "    # scale = 10**9\n",
        "    result = pd.to_datetime(df['profile_creation_timestamp']).astype(int)\n",
        "    return pd.DataFrame(result)"
      ],
      "execution_count": null,
      "outputs": []
    },
    {
      "cell_type": "code",
      "metadata": {
        "id": "BUDw_jisMhc-"
      },
      "source": [
        "time = ['profile_creation_timestamp']\n",
        "time_transformer = Pipeline(steps=[\n",
        "    ('days', FunctionTransformer(date2int)),\n",
        "    ('log', FunctionTransformer(np.log1p)),\n",
        "    ('scaler', MinMaxScaler()),\n",
        "    ])"
      ],
      "execution_count": null,
      "outputs": []
    },
    {
      "cell_type": "markdown",
      "metadata": {
        "id": "woiEmv0nu812"
      },
      "source": [
        "## Combine Transformers"
      ]
    },
    {
      "cell_type": "code",
      "metadata": {
        "id": "p2oFbsqnvARW"
      },
      "source": [
        "preprocessor = ColumnTransformer(\n",
        "    transformers=[\n",
        "        ('num', numeric_transformer, numeric_features),\n",
        "        ('cat', categorical_transformer, categorical_features),\n",
        "        ('bool', boolean_transformer, boolean_features),\n",
        "        ('user_cat', category_transformer, category),\n",
        "        ('loc', loc_visib_transformer, loc_visib),\n",
        "        ('url', personal_url_transformer, personal_url),\n",
        "        ('time', time_transformer, time),\n",
        "        ])"
      ],
      "execution_count": null,
      "outputs": []
    },
    {
      "cell_type": "markdown",
      "metadata": {
        "id": "k7qIvLD0SfuW"
      },
      "source": [
        "### Transform target and couple it with a regressor"
      ]
    },
    {
      "cell_type": "code",
      "metadata": {
        "id": "T_3gh7MeSfuZ"
      },
      "source": [
        "transformer = QuantileTransformer(output_distribution='normal')\n",
        "# regressor = LinearRegression() // Validation: 2.181173029294426, 30%\n",
        "regressor = SVR(C=0.3)\n",
        "regr = TransformedTargetRegressor(regressor=regressor,\n",
        "                                  transformer=transformer)"
      ],
      "execution_count": null,
      "outputs": []
    },
    {
      "cell_type": "markdown",
      "metadata": {
        "id": "r-KquO01SfuZ"
      },
      "source": [
        "### Use a pipeline"
      ]
    },
    {
      "cell_type": "code",
      "metadata": {
        "id": "CFOzZZXnSfua",
        "colab": {
          "base_uri": "https://localhost:8080/"
        },
        "outputId": "c4fd21bf-915e-41cc-bfed-ec737dd5b44b"
      },
      "source": [
        "estimators = [('preprocessor', preprocessor), ('regressor', regr)]\n",
        "pipe = Pipeline(estimators)\n",
        "pipe.fit(X_train, y_train)\n",
        "predictions = pipe.predict(X_valid)\n",
        "# predictions = pipe.predict(test_data)\n",
        "rmsle_train = rmsle(y_train, pipe.predict(X_train))\n",
        "rmsle_valid = rmsle(y_valid, predictions)\n",
        "\n",
        "print(f'Train error: {rmsle_train:.3f}')\n",
        "print(f'Valid error: {rmsle_valid:.3f}')"
      ],
      "execution_count": null,
      "outputs": [
        {
          "output_type": "stream",
          "text": [
            "Train error: 1.602\n",
            "Valid error: 1.762\n"
          ],
          "name": "stdout"
        }
      ]
    },
    {
      "cell_type": "markdown",
      "metadata": {
        "id": "5J3g7t5pQGeb"
      },
      "source": [
        "# Train on whole data"
      ]
    },
    {
      "cell_type": "code",
      "metadata": {
        "id": "iUdPkwAgQFor",
        "colab": {
          "base_uri": "https://localhost:8080/"
        },
        "outputId": "c309b2c9-2d09-458d-980a-c9e284a7870b"
      },
      "source": [
        "X_train_whole = pd.concat([X_train, X_valid])\n",
        "y_train_whole = pd.concat([y_train, y_valid])\n",
        "pipe.fit(X_train_whole, y_train_whole)\n",
        "pred_submission = pipe.predict(test_data)\n",
        "pred_submission"
      ],
      "execution_count": null,
      "outputs": [
        {
          "output_type": "execute_result",
          "data": {
            "text/plain": [
              "array([3770.06561117, 2497.72694285,  176.03515242, ..., 5957.59277906,\n",
              "       1054.44735892,  230.00801223])"
            ]
          },
          "metadata": {
            "tags": []
          },
          "execution_count": 21
        }
      ]
    },
    {
      "cell_type": "markdown",
      "metadata": {
        "id": "V_hOVTTtjg5_"
      },
      "source": [
        "# Save Predictions"
      ]
    },
    {
      "cell_type": "code",
      "metadata": {
        "id": "Wgj2ejIpjfSL"
      },
      "source": [
        "# save the submission file\n",
        "output = pd.DataFrame({'Id': test_data['id'], \n",
        "                       'Predicted': np.floor(pred_submission).astype('int')})\n",
        "output.to_csv('submission.csv', index=False)"
      ],
      "execution_count": null,
      "outputs": []
    },
    {
      "cell_type": "code",
      "metadata": {
        "id": "EFstgeDHSfub",
        "colab": {
          "base_uri": "https://localhost:8080/"
        },
        "outputId": "e7fde20b-4556-4801-ce26-260f11336bad"
      },
      "source": [
        "pipe.get_params()"
      ],
      "execution_count": null,
      "outputs": [
        {
          "output_type": "execute_result",
          "data": {
            "text/plain": [
              "{'memory': None,\n",
              " 'preprocessor': ColumnTransformer(n_jobs=None, remainder='drop', sparse_threshold=0.3,\n",
              "                   transformer_weights=None,\n",
              "                   transformers=[('num',\n",
              "                                  Pipeline(memory=None,\n",
              "                                           steps=[('imputer',\n",
              "                                                   SimpleImputer(add_indicator=False,\n",
              "                                                                 copy=True,\n",
              "                                                                 fill_value=None,\n",
              "                                                                 missing_values=nan,\n",
              "                                                                 strategy='mean',\n",
              "                                                                 verbose=0)),\n",
              "                                                  ('log',\n",
              "                                                   FunctionTransformer(accept_sparse=False,\n",
              "                                                                       check_inverse=True,\n",
              "                                                                       func=<ufunc 'log1p'>,\n",
              "                                                                       inv_...\n",
              "                                                                       func=<function date2int at 0x7f478346e2f0>,\n",
              "                                                                       inv_kw_args=None,\n",
              "                                                                       inverse_func=None,\n",
              "                                                                       kw_args=None,\n",
              "                                                                       validate=False)),\n",
              "                                                  ('log',\n",
              "                                                   FunctionTransformer(accept_sparse=False,\n",
              "                                                                       check_inverse=True,\n",
              "                                                                       func=<ufunc 'log1p'>,\n",
              "                                                                       inv_kw_args=None,\n",
              "                                                                       inverse_func=None,\n",
              "                                                                       kw_args=None,\n",
              "                                                                       validate=False)),\n",
              "                                                  ('scaler',\n",
              "                                                   MinMaxScaler(copy=True,\n",
              "                                                                feature_range=(0,\n",
              "                                                                               1)))],\n",
              "                                           verbose=False),\n",
              "                                  ['profile_creation_timestamp'])],\n",
              "                   verbose=False),\n",
              " 'preprocessor__bool': Pipeline(memory=None,\n",
              "          steps=[('imputer',\n",
              "                  SimpleImputer(add_indicator=False, copy=True,\n",
              "                                fill_value='Not set', missing_values=nan,\n",
              "                                strategy='constant', verbose=0)),\n",
              "                 ('onehot',\n",
              "                  OneHotEncoder(categories='auto', drop=None,\n",
              "                                dtype=<class 'numpy.float64'>,\n",
              "                                handle_unknown='ignore', sparse=True))],\n",
              "          verbose=False),\n",
              " 'preprocessor__bool__imputer': SimpleImputer(add_indicator=False, copy=True, fill_value='Not set',\n",
              "               missing_values=nan, strategy='constant', verbose=0),\n",
              " 'preprocessor__bool__imputer__add_indicator': False,\n",
              " 'preprocessor__bool__imputer__copy': True,\n",
              " 'preprocessor__bool__imputer__fill_value': 'Not set',\n",
              " 'preprocessor__bool__imputer__missing_values': nan,\n",
              " 'preprocessor__bool__imputer__strategy': 'constant',\n",
              " 'preprocessor__bool__imputer__verbose': 0,\n",
              " 'preprocessor__bool__memory': None,\n",
              " 'preprocessor__bool__onehot': OneHotEncoder(categories='auto', drop=None, dtype=<class 'numpy.float64'>,\n",
              "               handle_unknown='ignore', sparse=True),\n",
              " 'preprocessor__bool__onehot__categories': 'auto',\n",
              " 'preprocessor__bool__onehot__drop': None,\n",
              " 'preprocessor__bool__onehot__dtype': numpy.float64,\n",
              " 'preprocessor__bool__onehot__handle_unknown': 'ignore',\n",
              " 'preprocessor__bool__onehot__sparse': True,\n",
              " 'preprocessor__bool__steps': [('imputer',\n",
              "   SimpleImputer(add_indicator=False, copy=True, fill_value='Not set',\n",
              "                 missing_values=nan, strategy='constant', verbose=0)),\n",
              "  ('onehot',\n",
              "   OneHotEncoder(categories='auto', drop=None, dtype=<class 'numpy.float64'>,\n",
              "                 handle_unknown='ignore', sparse=True))],\n",
              " 'preprocessor__bool__verbose': False,\n",
              " 'preprocessor__cat': Pipeline(memory=None,\n",
              "          steps=[('imputer',\n",
              "                  SimpleImputer(add_indicator=False, copy=True,\n",
              "                                fill_value='missing', missing_values=nan,\n",
              "                                strategy='constant', verbose=0)),\n",
              "                 ('onehot',\n",
              "                  OneHotEncoder(categories='auto', drop=None,\n",
              "                                dtype=<class 'numpy.float64'>,\n",
              "                                handle_unknown='ignore', sparse=True))],\n",
              "          verbose=False),\n",
              " 'preprocessor__cat__imputer': SimpleImputer(add_indicator=False, copy=True, fill_value='missing',\n",
              "               missing_values=nan, strategy='constant', verbose=0),\n",
              " 'preprocessor__cat__imputer__add_indicator': False,\n",
              " 'preprocessor__cat__imputer__copy': True,\n",
              " 'preprocessor__cat__imputer__fill_value': 'missing',\n",
              " 'preprocessor__cat__imputer__missing_values': nan,\n",
              " 'preprocessor__cat__imputer__strategy': 'constant',\n",
              " 'preprocessor__cat__imputer__verbose': 0,\n",
              " 'preprocessor__cat__memory': None,\n",
              " 'preprocessor__cat__onehot': OneHotEncoder(categories='auto', drop=None, dtype=<class 'numpy.float64'>,\n",
              "               handle_unknown='ignore', sparse=True),\n",
              " 'preprocessor__cat__onehot__categories': 'auto',\n",
              " 'preprocessor__cat__onehot__drop': None,\n",
              " 'preprocessor__cat__onehot__dtype': numpy.float64,\n",
              " 'preprocessor__cat__onehot__handle_unknown': 'ignore',\n",
              " 'preprocessor__cat__onehot__sparse': True,\n",
              " 'preprocessor__cat__steps': [('imputer',\n",
              "   SimpleImputer(add_indicator=False, copy=True, fill_value='missing',\n",
              "                 missing_values=nan, strategy='constant', verbose=0)),\n",
              "  ('onehot',\n",
              "   OneHotEncoder(categories='auto', drop=None, dtype=<class 'numpy.float64'>,\n",
              "                 handle_unknown='ignore', sparse=True))],\n",
              " 'preprocessor__cat__verbose': False,\n",
              " 'preprocessor__loc': Pipeline(memory=None,\n",
              "          steps=[('lower',\n",
              "                  FunctionTransformer(accept_sparse=False, check_inverse=True,\n",
              "                                      func=<function lower_location_visibility at 0x7f4783f4de18>,\n",
              "                                      inv_kw_args=None, inverse_func=None,\n",
              "                                      kw_args=None, validate=False)),\n",
              "                 ('onehot',\n",
              "                  OneHotEncoder(categories='auto', drop=None,\n",
              "                                dtype=<class 'numpy.float64'>,\n",
              "                                handle_unknown='ignore', sparse=True))],\n",
              "          verbose=False),\n",
              " 'preprocessor__loc__lower': FunctionTransformer(accept_sparse=False, check_inverse=True,\n",
              "                     func=<function lower_location_visibility at 0x7f4783f4de18>,\n",
              "                     inv_kw_args=None, inverse_func=None, kw_args=None,\n",
              "                     validate=False),\n",
              " 'preprocessor__loc__lower__accept_sparse': False,\n",
              " 'preprocessor__loc__lower__check_inverse': True,\n",
              " 'preprocessor__loc__lower__func': <function __main__.lower_location_visibility>,\n",
              " 'preprocessor__loc__lower__inv_kw_args': None,\n",
              " 'preprocessor__loc__lower__inverse_func': None,\n",
              " 'preprocessor__loc__lower__kw_args': None,\n",
              " 'preprocessor__loc__lower__validate': False,\n",
              " 'preprocessor__loc__memory': None,\n",
              " 'preprocessor__loc__onehot': OneHotEncoder(categories='auto', drop=None, dtype=<class 'numpy.float64'>,\n",
              "               handle_unknown='ignore', sparse=True),\n",
              " 'preprocessor__loc__onehot__categories': 'auto',\n",
              " 'preprocessor__loc__onehot__drop': None,\n",
              " 'preprocessor__loc__onehot__dtype': numpy.float64,\n",
              " 'preprocessor__loc__onehot__handle_unknown': 'ignore',\n",
              " 'preprocessor__loc__onehot__sparse': True,\n",
              " 'preprocessor__loc__steps': [('lower',\n",
              "   FunctionTransformer(accept_sparse=False, check_inverse=True,\n",
              "                       func=<function lower_location_visibility at 0x7f4783f4de18>,\n",
              "                       inv_kw_args=None, inverse_func=None, kw_args=None,\n",
              "                       validate=False)),\n",
              "  ('onehot',\n",
              "   OneHotEncoder(categories='auto', drop=None, dtype=<class 'numpy.float64'>,\n",
              "                 handle_unknown='ignore', sparse=True))],\n",
              " 'preprocessor__loc__verbose': False,\n",
              " 'preprocessor__n_jobs': None,\n",
              " 'preprocessor__num': Pipeline(memory=None,\n",
              "          steps=[('imputer',\n",
              "                  SimpleImputer(add_indicator=False, copy=True, fill_value=None,\n",
              "                                missing_values=nan, strategy='mean',\n",
              "                                verbose=0)),\n",
              "                 ('log',\n",
              "                  FunctionTransformer(accept_sparse=False, check_inverse=True,\n",
              "                                      func=<ufunc 'log1p'>, inv_kw_args=None,\n",
              "                                      inverse_func=None, kw_args=None,\n",
              "                                      validate=False)),\n",
              "                 ('scaler',\n",
              "                  StandardScaler(copy=True, with_mean=True, with_std=True))],\n",
              "          verbose=False),\n",
              " 'preprocessor__num__imputer': SimpleImputer(add_indicator=False, copy=True, fill_value=None,\n",
              "               missing_values=nan, strategy='mean', verbose=0),\n",
              " 'preprocessor__num__imputer__add_indicator': False,\n",
              " 'preprocessor__num__imputer__copy': True,\n",
              " 'preprocessor__num__imputer__fill_value': None,\n",
              " 'preprocessor__num__imputer__missing_values': nan,\n",
              " 'preprocessor__num__imputer__strategy': 'mean',\n",
              " 'preprocessor__num__imputer__verbose': 0,\n",
              " 'preprocessor__num__log': FunctionTransformer(accept_sparse=False, check_inverse=True,\n",
              "                     func=<ufunc 'log1p'>, inv_kw_args=None, inverse_func=None,\n",
              "                     kw_args=None, validate=False),\n",
              " 'preprocessor__num__log__accept_sparse': False,\n",
              " 'preprocessor__num__log__check_inverse': True,\n",
              " 'preprocessor__num__log__func': <ufunc 'log1p'>,\n",
              " 'preprocessor__num__log__inv_kw_args': None,\n",
              " 'preprocessor__num__log__inverse_func': None,\n",
              " 'preprocessor__num__log__kw_args': None,\n",
              " 'preprocessor__num__log__validate': False,\n",
              " 'preprocessor__num__memory': None,\n",
              " 'preprocessor__num__scaler': StandardScaler(copy=True, with_mean=True, with_std=True),\n",
              " 'preprocessor__num__scaler__copy': True,\n",
              " 'preprocessor__num__scaler__with_mean': True,\n",
              " 'preprocessor__num__scaler__with_std': True,\n",
              " 'preprocessor__num__steps': [('imputer',\n",
              "   SimpleImputer(add_indicator=False, copy=True, fill_value=None,\n",
              "                 missing_values=nan, strategy='mean', verbose=0)),\n",
              "  ('log', FunctionTransformer(accept_sparse=False, check_inverse=True,\n",
              "                       func=<ufunc 'log1p'>, inv_kw_args=None, inverse_func=None,\n",
              "                       kw_args=None, validate=False)),\n",
              "  ('scaler', StandardScaler(copy=True, with_mean=True, with_std=True))],\n",
              " 'preprocessor__num__verbose': False,\n",
              " 'preprocessor__remainder': 'drop',\n",
              " 'preprocessor__sparse_threshold': 0.3,\n",
              " 'preprocessor__time': Pipeline(memory=None,\n",
              "          steps=[('days',\n",
              "                  FunctionTransformer(accept_sparse=False, check_inverse=True,\n",
              "                                      func=<function date2int at 0x7f478346e2f0>,\n",
              "                                      inv_kw_args=None, inverse_func=None,\n",
              "                                      kw_args=None, validate=False)),\n",
              "                 ('log',\n",
              "                  FunctionTransformer(accept_sparse=False, check_inverse=True,\n",
              "                                      func=<ufunc 'log1p'>, inv_kw_args=None,\n",
              "                                      inverse_func=None, kw_args=None,\n",
              "                                      validate=False)),\n",
              "                 ('scaler', MinMaxScaler(copy=True, feature_range=(0, 1)))],\n",
              "          verbose=False),\n",
              " 'preprocessor__time__days': FunctionTransformer(accept_sparse=False, check_inverse=True,\n",
              "                     func=<function date2int at 0x7f478346e2f0>,\n",
              "                     inv_kw_args=None, inverse_func=None, kw_args=None,\n",
              "                     validate=False),\n",
              " 'preprocessor__time__days__accept_sparse': False,\n",
              " 'preprocessor__time__days__check_inverse': True,\n",
              " 'preprocessor__time__days__func': <function __main__.date2int>,\n",
              " 'preprocessor__time__days__inv_kw_args': None,\n",
              " 'preprocessor__time__days__inverse_func': None,\n",
              " 'preprocessor__time__days__kw_args': None,\n",
              " 'preprocessor__time__days__validate': False,\n",
              " 'preprocessor__time__log': FunctionTransformer(accept_sparse=False, check_inverse=True,\n",
              "                     func=<ufunc 'log1p'>, inv_kw_args=None, inverse_func=None,\n",
              "                     kw_args=None, validate=False),\n",
              " 'preprocessor__time__log__accept_sparse': False,\n",
              " 'preprocessor__time__log__check_inverse': True,\n",
              " 'preprocessor__time__log__func': <ufunc 'log1p'>,\n",
              " 'preprocessor__time__log__inv_kw_args': None,\n",
              " 'preprocessor__time__log__inverse_func': None,\n",
              " 'preprocessor__time__log__kw_args': None,\n",
              " 'preprocessor__time__log__validate': False,\n",
              " 'preprocessor__time__memory': None,\n",
              " 'preprocessor__time__scaler': MinMaxScaler(copy=True, feature_range=(0, 1)),\n",
              " 'preprocessor__time__scaler__copy': True,\n",
              " 'preprocessor__time__scaler__feature_range': (0, 1),\n",
              " 'preprocessor__time__steps': [('days',\n",
              "   FunctionTransformer(accept_sparse=False, check_inverse=True,\n",
              "                       func=<function date2int at 0x7f478346e2f0>,\n",
              "                       inv_kw_args=None, inverse_func=None, kw_args=None,\n",
              "                       validate=False)),\n",
              "  ('log', FunctionTransformer(accept_sparse=False, check_inverse=True,\n",
              "                       func=<ufunc 'log1p'>, inv_kw_args=None, inverse_func=None,\n",
              "                       kw_args=None, validate=False)),\n",
              "  ('scaler', MinMaxScaler(copy=True, feature_range=(0, 1)))],\n",
              " 'preprocessor__time__verbose': False,\n",
              " 'preprocessor__transformer_weights': None,\n",
              " 'preprocessor__transformers': [('num', Pipeline(memory=None,\n",
              "            steps=[('imputer',\n",
              "                    SimpleImputer(add_indicator=False, copy=True, fill_value=None,\n",
              "                                  missing_values=nan, strategy='mean',\n",
              "                                  verbose=0)),\n",
              "                   ('log',\n",
              "                    FunctionTransformer(accept_sparse=False, check_inverse=True,\n",
              "                                        func=<ufunc 'log1p'>, inv_kw_args=None,\n",
              "                                        inverse_func=None, kw_args=None,\n",
              "                                        validate=False)),\n",
              "                   ('scaler',\n",
              "                    StandardScaler(copy=True, with_mean=True, with_std=True))],\n",
              "            verbose=False), ['num_of_followers',\n",
              "    'num_of_people_following',\n",
              "    'num_of_status_updates',\n",
              "    'num_of_direct_messages',\n",
              "    'avg_daily_profile_visit_duration_in_seconds',\n",
              "    'avg_daily_profile_clicks']),\n",
              "  ('cat', Pipeline(memory=None,\n",
              "            steps=[('imputer',\n",
              "                    SimpleImputer(add_indicator=False, copy=True,\n",
              "                                  fill_value='missing', missing_values=nan,\n",
              "                                  strategy='constant', verbose=0)),\n",
              "                   ('onehot',\n",
              "                    OneHotEncoder(categories='auto', drop=None,\n",
              "                                  dtype=<class 'numpy.float64'>,\n",
              "                                  handle_unknown='ignore', sparse=True))],\n",
              "            verbose=False), ['user_language', 'user_time_zone']),\n",
              "  ('bool', Pipeline(memory=None,\n",
              "            steps=[('imputer',\n",
              "                    SimpleImputer(add_indicator=False, copy=True,\n",
              "                                  fill_value='Not set', missing_values=nan,\n",
              "                                  strategy='constant', verbose=0)),\n",
              "                   ('onehot',\n",
              "                    OneHotEncoder(categories='auto', drop=None,\n",
              "                                  dtype=<class 'numpy.float64'>,\n",
              "                                  handle_unknown='ignore', sparse=True))],\n",
              "            verbose=False), ['is_profile_view_size_customized',\n",
              "    'profile_cover_image_status',\n",
              "    'profile_verification_status']),\n",
              "  ('user_cat', Pipeline(memory=None,\n",
              "            steps=[('clean',\n",
              "                    FunctionTransformer(accept_sparse=False, check_inverse=True,\n",
              "                                        func=<function clean_profile_category at 0x7f4783f4d840>,\n",
              "                                        inv_kw_args=None, inverse_func=None,\n",
              "                                        kw_args=None, validate=False)),\n",
              "                   ('onehot',\n",
              "                    OneHotEncoder(categories='auto', drop=None,\n",
              "                                  dtype=<class 'numpy.float64'>,\n",
              "                                  handle_unknown='ignore', sparse=True))],\n",
              "            verbose=False), ['profile_category']),\n",
              "  ('loc', Pipeline(memory=None,\n",
              "            steps=[('lower',\n",
              "                    FunctionTransformer(accept_sparse=False, check_inverse=True,\n",
              "                                        func=<function lower_location_visibility at 0x7f4783f4de18>,\n",
              "                                        inv_kw_args=None, inverse_func=None,\n",
              "                                        kw_args=None, validate=False)),\n",
              "                   ('onehot',\n",
              "                    OneHotEncoder(categories='auto', drop=None,\n",
              "                                  dtype=<class 'numpy.float64'>,\n",
              "                                  handle_unknown='ignore', sparse=True))],\n",
              "            verbose=False), ['location_public_visibility']),\n",
              "  ('url', Pipeline(memory=None,\n",
              "            steps=[('not_na',\n",
              "                    FunctionTransformer(accept_sparse=False, check_inverse=True,\n",
              "                                        func=<function notna at 0x7f479fec7488>,\n",
              "                                        inv_kw_args=None, inverse_func=None,\n",
              "                                        kw_args=None, validate=False))],\n",
              "            verbose=False), ['personal_url']),\n",
              "  ('time', Pipeline(memory=None,\n",
              "            steps=[('days',\n",
              "                    FunctionTransformer(accept_sparse=False, check_inverse=True,\n",
              "                                        func=<function date2int at 0x7f478346e2f0>,\n",
              "                                        inv_kw_args=None, inverse_func=None,\n",
              "                                        kw_args=None, validate=False)),\n",
              "                   ('log',\n",
              "                    FunctionTransformer(accept_sparse=False, check_inverse=True,\n",
              "                                        func=<ufunc 'log1p'>, inv_kw_args=None,\n",
              "                                        inverse_func=None, kw_args=None,\n",
              "                                        validate=False)),\n",
              "                   ('scaler', MinMaxScaler(copy=True, feature_range=(0, 1)))],\n",
              "            verbose=False), ['profile_creation_timestamp'])],\n",
              " 'preprocessor__url': Pipeline(memory=None,\n",
              "          steps=[('not_na',\n",
              "                  FunctionTransformer(accept_sparse=False, check_inverse=True,\n",
              "                                      func=<function notna at 0x7f479fec7488>,\n",
              "                                      inv_kw_args=None, inverse_func=None,\n",
              "                                      kw_args=None, validate=False))],\n",
              "          verbose=False),\n",
              " 'preprocessor__url__memory': None,\n",
              " 'preprocessor__url__not_na': FunctionTransformer(accept_sparse=False, check_inverse=True,\n",
              "                     func=<function notna at 0x7f479fec7488>, inv_kw_args=None,\n",
              "                     inverse_func=None, kw_args=None, validate=False),\n",
              " 'preprocessor__url__not_na__accept_sparse': False,\n",
              " 'preprocessor__url__not_na__check_inverse': True,\n",
              " 'preprocessor__url__not_na__func': <function pandas.core.dtypes.missing.notna>,\n",
              " 'preprocessor__url__not_na__inv_kw_args': None,\n",
              " 'preprocessor__url__not_na__inverse_func': None,\n",
              " 'preprocessor__url__not_na__kw_args': None,\n",
              " 'preprocessor__url__not_na__validate': False,\n",
              " 'preprocessor__url__steps': [('not_na',\n",
              "   FunctionTransformer(accept_sparse=False, check_inverse=True,\n",
              "                       func=<function notna at 0x7f479fec7488>, inv_kw_args=None,\n",
              "                       inverse_func=None, kw_args=None, validate=False))],\n",
              " 'preprocessor__url__verbose': False,\n",
              " 'preprocessor__user_cat': Pipeline(memory=None,\n",
              "          steps=[('clean',\n",
              "                  FunctionTransformer(accept_sparse=False, check_inverse=True,\n",
              "                                      func=<function clean_profile_category at 0x7f4783f4d840>,\n",
              "                                      inv_kw_args=None, inverse_func=None,\n",
              "                                      kw_args=None, validate=False)),\n",
              "                 ('onehot',\n",
              "                  OneHotEncoder(categories='auto', drop=None,\n",
              "                                dtype=<class 'numpy.float64'>,\n",
              "                                handle_unknown='ignore', sparse=True))],\n",
              "          verbose=False),\n",
              " 'preprocessor__user_cat__clean': FunctionTransformer(accept_sparse=False, check_inverse=True,\n",
              "                     func=<function clean_profile_category at 0x7f4783f4d840>,\n",
              "                     inv_kw_args=None, inverse_func=None, kw_args=None,\n",
              "                     validate=False),\n",
              " 'preprocessor__user_cat__clean__accept_sparse': False,\n",
              " 'preprocessor__user_cat__clean__check_inverse': True,\n",
              " 'preprocessor__user_cat__clean__func': <function __main__.clean_profile_category>,\n",
              " 'preprocessor__user_cat__clean__inv_kw_args': None,\n",
              " 'preprocessor__user_cat__clean__inverse_func': None,\n",
              " 'preprocessor__user_cat__clean__kw_args': None,\n",
              " 'preprocessor__user_cat__clean__validate': False,\n",
              " 'preprocessor__user_cat__memory': None,\n",
              " 'preprocessor__user_cat__onehot': OneHotEncoder(categories='auto', drop=None, dtype=<class 'numpy.float64'>,\n",
              "               handle_unknown='ignore', sparse=True),\n",
              " 'preprocessor__user_cat__onehot__categories': 'auto',\n",
              " 'preprocessor__user_cat__onehot__drop': None,\n",
              " 'preprocessor__user_cat__onehot__dtype': numpy.float64,\n",
              " 'preprocessor__user_cat__onehot__handle_unknown': 'ignore',\n",
              " 'preprocessor__user_cat__onehot__sparse': True,\n",
              " 'preprocessor__user_cat__steps': [('clean',\n",
              "   FunctionTransformer(accept_sparse=False, check_inverse=True,\n",
              "                       func=<function clean_profile_category at 0x7f4783f4d840>,\n",
              "                       inv_kw_args=None, inverse_func=None, kw_args=None,\n",
              "                       validate=False)),\n",
              "  ('onehot',\n",
              "   OneHotEncoder(categories='auto', drop=None, dtype=<class 'numpy.float64'>,\n",
              "                 handle_unknown='ignore', sparse=True))],\n",
              " 'preprocessor__user_cat__verbose': False,\n",
              " 'preprocessor__verbose': False,\n",
              " 'regressor': TransformedTargetRegressor(check_inverse=True, func=None, inverse_func=None,\n",
              "                            regressor=SVR(C=0.3, cache_size=200, coef0=0.0,\n",
              "                                          degree=3, epsilon=0.1, gamma='scale',\n",
              "                                          kernel='rbf', max_iter=-1,\n",
              "                                          shrinking=True, tol=0.001,\n",
              "                                          verbose=False),\n",
              "                            transformer=QuantileTransformer(copy=True,\n",
              "                                                            ignore_implicit_zeros=False,\n",
              "                                                            n_quantiles=1000,\n",
              "                                                            output_distribution='normal',\n",
              "                                                            random_state=None,\n",
              "                                                            subsample=100000)),\n",
              " 'regressor__check_inverse': True,\n",
              " 'regressor__func': None,\n",
              " 'regressor__inverse_func': None,\n",
              " 'regressor__regressor': SVR(C=0.3, cache_size=200, coef0=0.0, degree=3, epsilon=0.1, gamma='scale',\n",
              "     kernel='rbf', max_iter=-1, shrinking=True, tol=0.001, verbose=False),\n",
              " 'regressor__regressor__C': 0.3,\n",
              " 'regressor__regressor__cache_size': 200,\n",
              " 'regressor__regressor__coef0': 0.0,\n",
              " 'regressor__regressor__degree': 3,\n",
              " 'regressor__regressor__epsilon': 0.1,\n",
              " 'regressor__regressor__gamma': 'scale',\n",
              " 'regressor__regressor__kernel': 'rbf',\n",
              " 'regressor__regressor__max_iter': -1,\n",
              " 'regressor__regressor__shrinking': True,\n",
              " 'regressor__regressor__tol': 0.001,\n",
              " 'regressor__regressor__verbose': False,\n",
              " 'regressor__transformer': QuantileTransformer(copy=True, ignore_implicit_zeros=False, n_quantiles=1000,\n",
              "                     output_distribution='normal', random_state=None,\n",
              "                     subsample=100000),\n",
              " 'regressor__transformer__copy': True,\n",
              " 'regressor__transformer__ignore_implicit_zeros': False,\n",
              " 'regressor__transformer__n_quantiles': 1000,\n",
              " 'regressor__transformer__output_distribution': 'normal',\n",
              " 'regressor__transformer__random_state': None,\n",
              " 'regressor__transformer__subsample': 100000,\n",
              " 'steps': [('preprocessor',\n",
              "   ColumnTransformer(n_jobs=None, remainder='drop', sparse_threshold=0.3,\n",
              "                     transformer_weights=None,\n",
              "                     transformers=[('num',\n",
              "                                    Pipeline(memory=None,\n",
              "                                             steps=[('imputer',\n",
              "                                                     SimpleImputer(add_indicator=False,\n",
              "                                                                   copy=True,\n",
              "                                                                   fill_value=None,\n",
              "                                                                   missing_values=nan,\n",
              "                                                                   strategy='mean',\n",
              "                                                                   verbose=0)),\n",
              "                                                    ('log',\n",
              "                                                     FunctionTransformer(accept_sparse=False,\n",
              "                                                                         check_inverse=True,\n",
              "                                                                         func=<ufunc 'log1p'>,\n",
              "                                                                         inv_...\n",
              "                                                                         func=<function date2int at 0x7f478346e2f0>,\n",
              "                                                                         inv_kw_args=None,\n",
              "                                                                         inverse_func=None,\n",
              "                                                                         kw_args=None,\n",
              "                                                                         validate=False)),\n",
              "                                                    ('log',\n",
              "                                                     FunctionTransformer(accept_sparse=False,\n",
              "                                                                         check_inverse=True,\n",
              "                                                                         func=<ufunc 'log1p'>,\n",
              "                                                                         inv_kw_args=None,\n",
              "                                                                         inverse_func=None,\n",
              "                                                                         kw_args=None,\n",
              "                                                                         validate=False)),\n",
              "                                                    ('scaler',\n",
              "                                                     MinMaxScaler(copy=True,\n",
              "                                                                  feature_range=(0,\n",
              "                                                                                 1)))],\n",
              "                                             verbose=False),\n",
              "                                    ['profile_creation_timestamp'])],\n",
              "                     verbose=False)),\n",
              "  ('regressor',\n",
              "   TransformedTargetRegressor(check_inverse=True, func=None, inverse_func=None,\n",
              "                              regressor=SVR(C=0.3, cache_size=200, coef0=0.0,\n",
              "                                            degree=3, epsilon=0.1, gamma='scale',\n",
              "                                            kernel='rbf', max_iter=-1,\n",
              "                                            shrinking=True, tol=0.001,\n",
              "                                            verbose=False),\n",
              "                              transformer=QuantileTransformer(copy=True,\n",
              "                                                              ignore_implicit_zeros=False,\n",
              "                                                              n_quantiles=1000,\n",
              "                                                              output_distribution='normal',\n",
              "                                                              random_state=None,\n",
              "                                                              subsample=100000)))],\n",
              " 'verbose': False}"
            ]
          },
          "metadata": {
            "tags": []
          },
          "execution_count": 19
        }
      ]
    }
  ]
}